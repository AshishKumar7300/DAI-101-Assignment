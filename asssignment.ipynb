{
 "cells": [
  {
   "cell_type": "code",
   "execution_count": 2,
   "metadata": {},
   "outputs": [],
   "source": [
    "import pandas as pd\n",
    "import numpy as np\n",
    "import seaborn as sns\n",
    "import matplotlib.pyplot as plt\n",
    "from scipy import stats as st\n"
   ]
  },
  {
   "cell_type": "code",
   "execution_count": 3,
   "metadata": {},
   "outputs": [],
   "source": [
    "df=pd.read_csv('new_retail_data.csv')"
   ]
  },
  {
   "cell_type": "code",
   "execution_count": 4,
   "metadata": {},
   "outputs": [],
   "source": [
    "import warnings\n",
    "warnings.filterwarnings('ignore')"
   ]
  },
  {
   "cell_type": "code",
   "execution_count": 5,
   "metadata": {},
   "outputs": [
    {
     "data": {
      "text/plain": [
       "(302010, 30)"
      ]
     },
     "execution_count": 5,
     "metadata": {},
     "output_type": "execute_result"
    }
   ],
   "source": [
    "df.shape"
   ]
  },
  {
   "cell_type": "code",
   "execution_count": 6,
   "metadata": {},
   "outputs": [
    {
     "data": {
      "text/html": [
       "<div>\n",
       "<style scoped>\n",
       "    .dataframe tbody tr th:only-of-type {\n",
       "        vertical-align: middle;\n",
       "    }\n",
       "\n",
       "    .dataframe tbody tr th {\n",
       "        vertical-align: top;\n",
       "    }\n",
       "\n",
       "    .dataframe thead th {\n",
       "        text-align: right;\n",
       "    }\n",
       "</style>\n",
       "<table border=\"1\" class=\"dataframe\">\n",
       "  <thead>\n",
       "    <tr style=\"text-align: right;\">\n",
       "      <th></th>\n",
       "      <th>Transaction_ID</th>\n",
       "      <th>Customer_ID</th>\n",
       "      <th>Name</th>\n",
       "      <th>Email</th>\n",
       "      <th>Phone</th>\n",
       "      <th>Address</th>\n",
       "      <th>City</th>\n",
       "      <th>State</th>\n",
       "      <th>Zipcode</th>\n",
       "      <th>Country</th>\n",
       "      <th>...</th>\n",
       "      <th>Total_Amount</th>\n",
       "      <th>Product_Category</th>\n",
       "      <th>Product_Brand</th>\n",
       "      <th>Product_Type</th>\n",
       "      <th>Feedback</th>\n",
       "      <th>Shipping_Method</th>\n",
       "      <th>Payment_Method</th>\n",
       "      <th>Order_Status</th>\n",
       "      <th>Ratings</th>\n",
       "      <th>products</th>\n",
       "    </tr>\n",
       "  </thead>\n",
       "  <tbody>\n",
       "    <tr>\n",
       "      <th>0</th>\n",
       "      <td>8691788.0</td>\n",
       "      <td>37249.0</td>\n",
       "      <td>Michelle Harrington</td>\n",
       "      <td>Ebony39@gmail.com</td>\n",
       "      <td>1.414787e+09</td>\n",
       "      <td>3959 Amanda Burgs</td>\n",
       "      <td>Dortmund</td>\n",
       "      <td>Berlin</td>\n",
       "      <td>77985.0</td>\n",
       "      <td>Germany</td>\n",
       "      <td>...</td>\n",
       "      <td>324.086270</td>\n",
       "      <td>Clothing</td>\n",
       "      <td>Nike</td>\n",
       "      <td>Shorts</td>\n",
       "      <td>Excellent</td>\n",
       "      <td>Same-Day</td>\n",
       "      <td>Debit Card</td>\n",
       "      <td>Shipped</td>\n",
       "      <td>5.0</td>\n",
       "      <td>Cycling shorts</td>\n",
       "    </tr>\n",
       "    <tr>\n",
       "      <th>1</th>\n",
       "      <td>2174773.0</td>\n",
       "      <td>69749.0</td>\n",
       "      <td>Kelsey Hill</td>\n",
       "      <td>Mark36@gmail.com</td>\n",
       "      <td>6.852900e+09</td>\n",
       "      <td>82072 Dawn Centers</td>\n",
       "      <td>Nottingham</td>\n",
       "      <td>England</td>\n",
       "      <td>99071.0</td>\n",
       "      <td>UK</td>\n",
       "      <td>...</td>\n",
       "      <td>806.707815</td>\n",
       "      <td>Electronics</td>\n",
       "      <td>Samsung</td>\n",
       "      <td>Tablet</td>\n",
       "      <td>Excellent</td>\n",
       "      <td>Standard</td>\n",
       "      <td>Credit Card</td>\n",
       "      <td>Processing</td>\n",
       "      <td>4.0</td>\n",
       "      <td>Lenovo Tab</td>\n",
       "    </tr>\n",
       "    <tr>\n",
       "      <th>2</th>\n",
       "      <td>6679610.0</td>\n",
       "      <td>30192.0</td>\n",
       "      <td>Scott Jensen</td>\n",
       "      <td>Shane85@gmail.com</td>\n",
       "      <td>8.362160e+09</td>\n",
       "      <td>4133 Young Canyon</td>\n",
       "      <td>Geelong</td>\n",
       "      <td>New South Wales</td>\n",
       "      <td>75929.0</td>\n",
       "      <td>Australia</td>\n",
       "      <td>...</td>\n",
       "      <td>1063.432799</td>\n",
       "      <td>Books</td>\n",
       "      <td>Penguin Books</td>\n",
       "      <td>Children's</td>\n",
       "      <td>Average</td>\n",
       "      <td>Same-Day</td>\n",
       "      <td>Credit Card</td>\n",
       "      <td>Processing</td>\n",
       "      <td>2.0</td>\n",
       "      <td>Sports equipment</td>\n",
       "    </tr>\n",
       "    <tr>\n",
       "      <th>3</th>\n",
       "      <td>7232460.0</td>\n",
       "      <td>62101.0</td>\n",
       "      <td>Joseph Miller</td>\n",
       "      <td>Mary34@gmail.com</td>\n",
       "      <td>2.776752e+09</td>\n",
       "      <td>8148 Thomas Creek Suite 100</td>\n",
       "      <td>Edmonton</td>\n",
       "      <td>Ontario</td>\n",
       "      <td>88420.0</td>\n",
       "      <td>Canada</td>\n",
       "      <td>...</td>\n",
       "      <td>2466.854021</td>\n",
       "      <td>Home Decor</td>\n",
       "      <td>Home Depot</td>\n",
       "      <td>Tools</td>\n",
       "      <td>Excellent</td>\n",
       "      <td>Standard</td>\n",
       "      <td>PayPal</td>\n",
       "      <td>Processing</td>\n",
       "      <td>4.0</td>\n",
       "      <td>Utility knife</td>\n",
       "    </tr>\n",
       "    <tr>\n",
       "      <th>4</th>\n",
       "      <td>4983775.0</td>\n",
       "      <td>27901.0</td>\n",
       "      <td>Debra Coleman</td>\n",
       "      <td>Charles30@gmail.com</td>\n",
       "      <td>9.098268e+09</td>\n",
       "      <td>5813 Lori Ports Suite 269</td>\n",
       "      <td>Bristol</td>\n",
       "      <td>England</td>\n",
       "      <td>48704.0</td>\n",
       "      <td>UK</td>\n",
       "      <td>...</td>\n",
       "      <td>248.553049</td>\n",
       "      <td>Grocery</td>\n",
       "      <td>Nestle</td>\n",
       "      <td>Chocolate</td>\n",
       "      <td>Bad</td>\n",
       "      <td>Standard</td>\n",
       "      <td>Cash</td>\n",
       "      <td>Shipped</td>\n",
       "      <td>1.0</td>\n",
       "      <td>Chocolate cookies</td>\n",
       "    </tr>\n",
       "  </tbody>\n",
       "</table>\n",
       "<p>5 rows × 30 columns</p>\n",
       "</div>"
      ],
      "text/plain": [
       "   Transaction_ID  Customer_ID                 Name                Email  \\\n",
       "0       8691788.0      37249.0  Michelle Harrington    Ebony39@gmail.com   \n",
       "1       2174773.0      69749.0          Kelsey Hill     Mark36@gmail.com   \n",
       "2       6679610.0      30192.0         Scott Jensen    Shane85@gmail.com   \n",
       "3       7232460.0      62101.0        Joseph Miller     Mary34@gmail.com   \n",
       "4       4983775.0      27901.0        Debra Coleman  Charles30@gmail.com   \n",
       "\n",
       "          Phone                      Address        City            State  \\\n",
       "0  1.414787e+09            3959 Amanda Burgs    Dortmund           Berlin   \n",
       "1  6.852900e+09           82072 Dawn Centers  Nottingham          England   \n",
       "2  8.362160e+09            4133 Young Canyon     Geelong  New South Wales   \n",
       "3  2.776752e+09  8148 Thomas Creek Suite 100    Edmonton          Ontario   \n",
       "4  9.098268e+09    5813 Lori Ports Suite 269     Bristol          England   \n",
       "\n",
       "   Zipcode    Country  ...  Total_Amount Product_Category  Product_Brand  \\\n",
       "0  77985.0    Germany  ...    324.086270         Clothing           Nike   \n",
       "1  99071.0         UK  ...    806.707815      Electronics        Samsung   \n",
       "2  75929.0  Australia  ...   1063.432799            Books  Penguin Books   \n",
       "3  88420.0     Canada  ...   2466.854021       Home Decor     Home Depot   \n",
       "4  48704.0         UK  ...    248.553049          Grocery         Nestle   \n",
       "\n",
       "  Product_Type   Feedback  Shipping_Method Payment_Method Order_Status  \\\n",
       "0       Shorts  Excellent         Same-Day     Debit Card      Shipped   \n",
       "1       Tablet  Excellent         Standard    Credit Card   Processing   \n",
       "2   Children's    Average         Same-Day    Credit Card   Processing   \n",
       "3        Tools  Excellent         Standard         PayPal   Processing   \n",
       "4    Chocolate        Bad         Standard           Cash      Shipped   \n",
       "\n",
       "   Ratings           products  \n",
       "0      5.0     Cycling shorts  \n",
       "1      4.0         Lenovo Tab  \n",
       "2      2.0   Sports equipment  \n",
       "3      4.0      Utility knife  \n",
       "4      1.0  Chocolate cookies  \n",
       "\n",
       "[5 rows x 30 columns]"
      ]
     },
     "execution_count": 6,
     "metadata": {},
     "output_type": "execute_result"
    }
   ],
   "source": [
    "df.head()"
   ]
  },
  {
   "cell_type": "code",
   "execution_count": 7,
   "metadata": {},
   "outputs": [
    {
     "data": {
      "text/html": [
       "<div>\n",
       "<style scoped>\n",
       "    .dataframe tbody tr th:only-of-type {\n",
       "        vertical-align: middle;\n",
       "    }\n",
       "\n",
       "    .dataframe tbody tr th {\n",
       "        vertical-align: top;\n",
       "    }\n",
       "\n",
       "    .dataframe thead th {\n",
       "        text-align: right;\n",
       "    }\n",
       "</style>\n",
       "<table border=\"1\" class=\"dataframe\">\n",
       "  <thead>\n",
       "    <tr style=\"text-align: right;\">\n",
       "      <th></th>\n",
       "      <th>Transaction_ID</th>\n",
       "      <th>Customer_ID</th>\n",
       "      <th>Name</th>\n",
       "      <th>Email</th>\n",
       "      <th>Phone</th>\n",
       "      <th>Address</th>\n",
       "      <th>City</th>\n",
       "      <th>State</th>\n",
       "      <th>Zipcode</th>\n",
       "      <th>Country</th>\n",
       "      <th>...</th>\n",
       "      <th>Total_Amount</th>\n",
       "      <th>Product_Category</th>\n",
       "      <th>Product_Brand</th>\n",
       "      <th>Product_Type</th>\n",
       "      <th>Feedback</th>\n",
       "      <th>Shipping_Method</th>\n",
       "      <th>Payment_Method</th>\n",
       "      <th>Order_Status</th>\n",
       "      <th>Ratings</th>\n",
       "      <th>products</th>\n",
       "    </tr>\n",
       "  </thead>\n",
       "  <tbody>\n",
       "    <tr>\n",
       "      <th>302005</th>\n",
       "      <td>4246475.0</td>\n",
       "      <td>12104.0</td>\n",
       "      <td>Meagan Ellis</td>\n",
       "      <td>Courtney60@gmail.com</td>\n",
       "      <td>7.466354e+09</td>\n",
       "      <td>389 Todd Path Apt. 159</td>\n",
       "      <td>Townsville</td>\n",
       "      <td>New South Wales</td>\n",
       "      <td>4567.0</td>\n",
       "      <td>Australia</td>\n",
       "      <td>...</td>\n",
       "      <td>973.962984</td>\n",
       "      <td>Books</td>\n",
       "      <td>Penguin Books</td>\n",
       "      <td>Fiction</td>\n",
       "      <td>Bad</td>\n",
       "      <td>Same-Day</td>\n",
       "      <td>Cash</td>\n",
       "      <td>Processing</td>\n",
       "      <td>1.0</td>\n",
       "      <td>Historical fiction</td>\n",
       "    </tr>\n",
       "    <tr>\n",
       "      <th>302006</th>\n",
       "      <td>1197603.0</td>\n",
       "      <td>69772.0</td>\n",
       "      <td>Mathew Beck</td>\n",
       "      <td>Jennifer71@gmail.com</td>\n",
       "      <td>5.754305e+09</td>\n",
       "      <td>52809 Mark Forges</td>\n",
       "      <td>Hanover</td>\n",
       "      <td>Berlin</td>\n",
       "      <td>16852.0</td>\n",
       "      <td>Germany</td>\n",
       "      <td>...</td>\n",
       "      <td>285.137301</td>\n",
       "      <td>Electronics</td>\n",
       "      <td>Apple</td>\n",
       "      <td>Laptop</td>\n",
       "      <td>Excellent</td>\n",
       "      <td>Same-Day</td>\n",
       "      <td>Cash</td>\n",
       "      <td>Processing</td>\n",
       "      <td>5.0</td>\n",
       "      <td>LG Gram</td>\n",
       "    </tr>\n",
       "    <tr>\n",
       "      <th>302007</th>\n",
       "      <td>7743242.0</td>\n",
       "      <td>28449.0</td>\n",
       "      <td>Daniel Lee</td>\n",
       "      <td>Christopher100@gmail.com</td>\n",
       "      <td>9.382530e+09</td>\n",
       "      <td>407 Aaron Crossing Suite 495</td>\n",
       "      <td>Brighton</td>\n",
       "      <td>England</td>\n",
       "      <td>88038.0</td>\n",
       "      <td>UK</td>\n",
       "      <td>...</td>\n",
       "      <td>182.105285</td>\n",
       "      <td>Clothing</td>\n",
       "      <td>Adidas</td>\n",
       "      <td>Jacket</td>\n",
       "      <td>Average</td>\n",
       "      <td>Express</td>\n",
       "      <td>Cash</td>\n",
       "      <td>Shipped</td>\n",
       "      <td>2.0</td>\n",
       "      <td>Parka</td>\n",
       "    </tr>\n",
       "    <tr>\n",
       "      <th>302008</th>\n",
       "      <td>9301950.0</td>\n",
       "      <td>45477.0</td>\n",
       "      <td>Patrick Wilson</td>\n",
       "      <td>Rebecca65@gmail.com</td>\n",
       "      <td>9.373222e+09</td>\n",
       "      <td>3204 Baird Port</td>\n",
       "      <td>Halifax</td>\n",
       "      <td>Ontario</td>\n",
       "      <td>67608.0</td>\n",
       "      <td>Canada</td>\n",
       "      <td>...</td>\n",
       "      <td>120.834784</td>\n",
       "      <td>Home Decor</td>\n",
       "      <td>IKEA</td>\n",
       "      <td>Furniture</td>\n",
       "      <td>Good</td>\n",
       "      <td>Standard</td>\n",
       "      <td>Cash</td>\n",
       "      <td>Shipped</td>\n",
       "      <td>4.0</td>\n",
       "      <td>TV stand</td>\n",
       "    </tr>\n",
       "    <tr>\n",
       "      <th>302009</th>\n",
       "      <td>2882826.0</td>\n",
       "      <td>53626.0</td>\n",
       "      <td>Dustin Merritt</td>\n",
       "      <td>William14@gmail.com</td>\n",
       "      <td>9.518927e+09</td>\n",
       "      <td>143 Amanda Crescent</td>\n",
       "      <td>Tucson</td>\n",
       "      <td>West Virginia</td>\n",
       "      <td>25242.0</td>\n",
       "      <td>USA</td>\n",
       "      <td>...</td>\n",
       "      <td>2382.233417</td>\n",
       "      <td>Home Decor</td>\n",
       "      <td>Home Depot</td>\n",
       "      <td>Decorations</td>\n",
       "      <td>Average</td>\n",
       "      <td>Same-Day</td>\n",
       "      <td>Cash</td>\n",
       "      <td>Shipped</td>\n",
       "      <td>2.0</td>\n",
       "      <td>Clocks</td>\n",
       "    </tr>\n",
       "  </tbody>\n",
       "</table>\n",
       "<p>5 rows × 30 columns</p>\n",
       "</div>"
      ],
      "text/plain": [
       "        Transaction_ID  Customer_ID            Name                     Email  \\\n",
       "302005       4246475.0      12104.0    Meagan Ellis      Courtney60@gmail.com   \n",
       "302006       1197603.0      69772.0     Mathew Beck      Jennifer71@gmail.com   \n",
       "302007       7743242.0      28449.0      Daniel Lee  Christopher100@gmail.com   \n",
       "302008       9301950.0      45477.0  Patrick Wilson       Rebecca65@gmail.com   \n",
       "302009       2882826.0      53626.0  Dustin Merritt       William14@gmail.com   \n",
       "\n",
       "               Phone                       Address        City  \\\n",
       "302005  7.466354e+09        389 Todd Path Apt. 159  Townsville   \n",
       "302006  5.754305e+09             52809 Mark Forges     Hanover   \n",
       "302007  9.382530e+09  407 Aaron Crossing Suite 495    Brighton   \n",
       "302008  9.373222e+09               3204 Baird Port     Halifax   \n",
       "302009  9.518927e+09           143 Amanda Crescent      Tucson   \n",
       "\n",
       "                  State  Zipcode    Country  ...  Total_Amount  \\\n",
       "302005  New South Wales   4567.0  Australia  ...    973.962984   \n",
       "302006           Berlin  16852.0    Germany  ...    285.137301   \n",
       "302007          England  88038.0         UK  ...    182.105285   \n",
       "302008          Ontario  67608.0     Canada  ...    120.834784   \n",
       "302009    West Virginia  25242.0        USA  ...   2382.233417   \n",
       "\n",
       "       Product_Category  Product_Brand Product_Type   Feedback  \\\n",
       "302005            Books  Penguin Books      Fiction        Bad   \n",
       "302006      Electronics          Apple       Laptop  Excellent   \n",
       "302007         Clothing         Adidas       Jacket    Average   \n",
       "302008       Home Decor           IKEA    Furniture       Good   \n",
       "302009       Home Decor     Home Depot  Decorations    Average   \n",
       "\n",
       "        Shipping_Method Payment_Method Order_Status  Ratings  \\\n",
       "302005         Same-Day           Cash   Processing      1.0   \n",
       "302006         Same-Day           Cash   Processing      5.0   \n",
       "302007          Express           Cash      Shipped      2.0   \n",
       "302008         Standard           Cash      Shipped      4.0   \n",
       "302009         Same-Day           Cash      Shipped      2.0   \n",
       "\n",
       "                  products  \n",
       "302005  Historical fiction  \n",
       "302006             LG Gram  \n",
       "302007               Parka  \n",
       "302008            TV stand  \n",
       "302009              Clocks  \n",
       "\n",
       "[5 rows x 30 columns]"
      ]
     },
     "execution_count": 7,
     "metadata": {},
     "output_type": "execute_result"
    }
   ],
   "source": [
    "df.tail()"
   ]
  },
  {
   "cell_type": "code",
   "execution_count": 8,
   "metadata": {},
   "outputs": [
    {
     "name": "stdout",
     "output_type": "stream",
     "text": [
      "<class 'pandas.core.frame.DataFrame'>\n",
      "RangeIndex: 302010 entries, 0 to 302009\n",
      "Data columns (total 30 columns):\n",
      " #   Column            Non-Null Count   Dtype  \n",
      "---  ------            --------------   -----  \n",
      " 0   Transaction_ID    301677 non-null  float64\n",
      " 1   Customer_ID       301702 non-null  float64\n",
      " 2   Name              301628 non-null  object \n",
      " 3   Email             301663 non-null  object \n",
      " 4   Phone             301648 non-null  float64\n",
      " 5   Address           301695 non-null  object \n",
      " 6   City              301762 non-null  object \n",
      " 7   State             301729 non-null  object \n",
      " 8   Zipcode           301670 non-null  float64\n",
      " 9   Country           301739 non-null  object \n",
      " 10  Age               301837 non-null  float64\n",
      " 11  Gender            301693 non-null  object \n",
      " 12  Income            301720 non-null  object \n",
      " 13  Customer_Segment  301795 non-null  object \n",
      " 14  Date              301651 non-null  object \n",
      " 15  Year              301660 non-null  float64\n",
      " 16  Month             301737 non-null  object \n",
      " 17  Time              301660 non-null  object \n",
      " 18  Total_Purchases   301649 non-null  float64\n",
      " 19  Amount            301653 non-null  float64\n",
      " 20  Total_Amount      301660 non-null  float64\n",
      " 21  Product_Category  301727 non-null  object \n",
      " 22  Product_Brand     301729 non-null  object \n",
      " 23  Product_Type      302010 non-null  object \n",
      " 24  Feedback          301826 non-null  object \n",
      " 25  Shipping_Method   301673 non-null  object \n",
      " 26  Payment_Method    301713 non-null  object \n",
      " 27  Order_Status      301775 non-null  object \n",
      " 28  Ratings           301826 non-null  float64\n",
      " 29  products          302010 non-null  object \n",
      "dtypes: float64(10), object(20)\n",
      "memory usage: 69.1+ MB\n"
     ]
    }
   ],
   "source": [
    "df.info()"
   ]
  },
  {
   "cell_type": "code",
   "execution_count": 9,
   "metadata": {},
   "outputs": [
    {
     "data": {
      "text/plain": [
       "Transaction_ID      333\n",
       "Customer_ID         308\n",
       "Name                382\n",
       "Email               347\n",
       "Phone               362\n",
       "Address             315\n",
       "City                248\n",
       "State               281\n",
       "Zipcode             340\n",
       "Country             271\n",
       "Age                 173\n",
       "Gender              317\n",
       "Income              290\n",
       "Customer_Segment    215\n",
       "Date                359\n",
       "Year                350\n",
       "Month               273\n",
       "Time                350\n",
       "Total_Purchases     361\n",
       "Amount              357\n",
       "Total_Amount        350\n",
       "Product_Category    283\n",
       "Product_Brand       281\n",
       "Product_Type          0\n",
       "Feedback            184\n",
       "Shipping_Method     337\n",
       "Payment_Method      297\n",
       "Order_Status        235\n",
       "Ratings             184\n",
       "products              0\n",
       "dtype: int64"
      ]
     },
     "execution_count": 9,
     "metadata": {},
     "output_type": "execute_result"
    }
   ],
   "source": [
    "df.isnull().sum()"
   ]
  },
  {
   "cell_type": "code",
   "execution_count": 10,
   "metadata": {},
   "outputs": [],
   "source": [
    "numerical_cols=df.select_dtypes(include=['int64','float64']).columns\n",
    "df[numerical_cols]=df[numerical_cols].fillna(df[numerical_cols].mean())"
   ]
  },
  {
   "cell_type": "code",
   "execution_count": 11,
   "metadata": {},
   "outputs": [],
   "source": [
    "categorical_cols=df.select_dtypes(include=['object']).columns\n",
    "for cat in categorical_cols:\n",
    "    df[cat].fillna(df[cat].mode()[0],inplace=True)\n",
    "#df[categorical_cols]=df[categorical_cols].fillna(df[numerical_cols].mode().iloc[0])\n",
    "\n"
   ]
  },
  {
   "cell_type": "code",
   "execution_count": 12,
   "metadata": {},
   "outputs": [
    {
     "data": {
      "text/plain": [
       "Transaction_ID      0\n",
       "Customer_ID         0\n",
       "Name                0\n",
       "Email               0\n",
       "Phone               0\n",
       "Address             0\n",
       "City                0\n",
       "State               0\n",
       "Zipcode             0\n",
       "Country             0\n",
       "Age                 0\n",
       "Gender              0\n",
       "Income              0\n",
       "Customer_Segment    0\n",
       "Date                0\n",
       "Year                0\n",
       "Month               0\n",
       "Time                0\n",
       "Total_Purchases     0\n",
       "Amount              0\n",
       "Total_Amount        0\n",
       "Product_Category    0\n",
       "Product_Brand       0\n",
       "Product_Type        0\n",
       "Feedback            0\n",
       "Shipping_Method     0\n",
       "Payment_Method      0\n",
       "Order_Status        0\n",
       "Ratings             0\n",
       "products            0\n",
       "dtype: int64"
      ]
     },
     "execution_count": 12,
     "metadata": {},
     "output_type": "execute_result"
    }
   ],
   "source": [
    "df.isnull().sum()"
   ]
  },
  {
   "cell_type": "markdown",
   "metadata": {},
   "source": [
    "**handling invalid data**"
   ]
  },
  {
   "cell_type": "code",
   "execution_count": 13,
   "metadata": {},
   "outputs": [],
   "source": [
    "df=df[(df['Total_Purchases']>=0) & (df['Amount']>=0)&(df['Total_Amount']>=0)]\n"
   ]
  },
  {
   "cell_type": "markdown",
   "metadata": {},
   "source": [
    "**handling inconsistent data format**"
   ]
  },
  {
   "cell_type": "code",
   "execution_count": 14,
   "metadata": {},
   "outputs": [
    {
     "data": {
      "text/plain": [
       "Transaction_ID       int64\n",
       "Customer_ID          int64\n",
       "Name                object\n",
       "Email               object\n",
       "Phone                int64\n",
       "Address             object\n",
       "City                object\n",
       "State               object\n",
       "Zipcode              int64\n",
       "Country             object\n",
       "Age                  int64\n",
       "Gender              object\n",
       "Income              object\n",
       "Customer_Segment    object\n",
       "Date                object\n",
       "Year                 int64\n",
       "Month               object\n",
       "Time                object\n",
       "Total_Purchases      int64\n",
       "Amount               int64\n",
       "Total_Amount         int64\n",
       "Product_Category    object\n",
       "Product_Brand       object\n",
       "Product_Type        object\n",
       "Feedback            object\n",
       "Shipping_Method     object\n",
       "Payment_Method      object\n",
       "Order_Status        object\n",
       "Ratings              int64\n",
       "products            object\n",
       "dtype: object"
      ]
     },
     "execution_count": 14,
     "metadata": {},
     "output_type": "execute_result"
    }
   ],
   "source": [
    "df[numerical_cols]=df[numerical_cols].astype(int)\n",
    "df.dtypes"
   ]
  },
  {
   "cell_type": "code",
   "execution_count": 15,
   "metadata": {},
   "outputs": [],
   "source": [
    "df['Date']=pd.to_datetime(df['Date'],format='%Y-%m-%d',errors='coerce').dt.strftime('%m-%d-%Y')\n",
    "df['Time']=pd.to_datetime(df['Time'],format='%H-%M-%S',errors='coerce').dt.strftime('%H-%M-%S')\n"
   ]
  },
  {
   "cell_type": "markdown",
   "metadata": {},
   "source": [
    "**handling duplicates values**"
   ]
  },
  {
   "cell_type": "code",
   "execution_count": 16,
   "metadata": {},
   "outputs": [
    {
     "data": {
      "text/plain": [
       "np.int64(4)"
      ]
     },
     "execution_count": 16,
     "metadata": {},
     "output_type": "execute_result"
    }
   ],
   "source": [
    "df.duplicated().sum()\n"
   ]
  },
  {
   "cell_type": "code",
   "execution_count": 17,
   "metadata": {},
   "outputs": [
    {
     "data": {
      "text/plain": [
       "(302010, 30)"
      ]
     },
     "execution_count": 17,
     "metadata": {},
     "output_type": "execute_result"
    }
   ],
   "source": [
    "df.shape"
   ]
  },
  {
   "cell_type": "code",
   "execution_count": 18,
   "metadata": {},
   "outputs": [
    {
     "data": {
      "text/plain": [
       "np.int64(0)"
      ]
     },
     "execution_count": 18,
     "metadata": {},
     "output_type": "execute_result"
    }
   ],
   "source": [
    "df.drop_duplicates(inplace=True)\n",
    "df.duplicated().sum()"
   ]
  },
  {
   "cell_type": "code",
   "execution_count": 19,
   "metadata": {},
   "outputs": [
    {
     "data": {
      "text/plain": [
       "(302006, 30)"
      ]
     },
     "execution_count": 19,
     "metadata": {},
     "output_type": "execute_result"
    }
   ],
   "source": [
    "df.shape"
   ]
  },
  {
   "cell_type": "markdown",
   "metadata": {},
   "source": [
    "**handling outliers**"
   ]
  },
  {
   "cell_type": "code",
   "execution_count": 20,
   "metadata": {},
   "outputs": [
    {
     "data": {
      "text/plain": [
       "np.float64(1588.0)"
      ]
     },
     "execution_count": 20,
     "metadata": {},
     "output_type": "execute_result"
    }
   ],
   "source": [
    "Q1=df['Total_Amount'].quantile(0.25)\n",
    "Q3=df['Total_Amount'].quantile(0.75)\n",
    "IQR=Q3-Q1\n",
    "IQR"
   ]
  },
  {
   "cell_type": "code",
   "execution_count": 21,
   "metadata": {},
   "outputs": [
    {
     "data": {
      "text/plain": [
       "150       4885\n",
       "159       4850\n",
       "395       4487\n",
       "400       4518\n",
       "484       4755\n",
       "          ... \n",
       "301723    4773\n",
       "301766    4802\n",
       "301883    4588\n",
       "301904    4884\n",
       "301960    4934\n",
       "Name: Total_Amount, Length: 3977, dtype: int64"
      ]
     },
     "execution_count": 21,
     "metadata": {},
     "output_type": "execute_result"
    }
   ],
   "source": [
    "outliers=df['Total_Amount'][(df['Total_Amount']<(Q1-(1.5*IQR))) | (df['Total_Amount']>(Q3+(1.5*IQR)))]\n",
    "outliers"
   ]
  },
  {
   "cell_type": "code",
   "execution_count": 22,
   "metadata": {},
   "outputs": [],
   "source": [
    "df['Total_Amount']=df['Total_Amount'][(df['Total_Amount']>=(Q1-(1.5*IQR))) & (df['Total_Amount']<=(Q3+(1.5*IQR)))]"
   ]
  },
  {
   "cell_type": "code",
   "execution_count": null,
   "metadata": {},
   "outputs": [],
   "source": []
  },
  {
   "cell_type": "code",
   "execution_count": 23,
   "metadata": {},
   "outputs": [
    {
     "data": {
      "text/html": [
       "<div>\n",
       "<style scoped>\n",
       "    .dataframe tbody tr th:only-of-type {\n",
       "        vertical-align: middle;\n",
       "    }\n",
       "\n",
       "    .dataframe tbody tr th {\n",
       "        vertical-align: top;\n",
       "    }\n",
       "\n",
       "    .dataframe thead th {\n",
       "        text-align: right;\n",
       "    }\n",
       "</style>\n",
       "<table border=\"1\" class=\"dataframe\">\n",
       "  <thead>\n",
       "    <tr style=\"text-align: right;\">\n",
       "      <th></th>\n",
       "      <th>Transaction_ID</th>\n",
       "      <th>Customer_ID</th>\n",
       "      <th>Phone</th>\n",
       "      <th>Zipcode</th>\n",
       "      <th>Age</th>\n",
       "      <th>Year</th>\n",
       "      <th>Total_Purchases</th>\n",
       "      <th>Amount</th>\n",
       "      <th>Total_Amount</th>\n",
       "      <th>Ratings</th>\n",
       "    </tr>\n",
       "  </thead>\n",
       "  <tbody>\n",
       "    <tr>\n",
       "      <th>count</th>\n",
       "      <td>3.020060e+05</td>\n",
       "      <td>302006.000000</td>\n",
       "      <td>3.020060e+05</td>\n",
       "      <td>302006.000000</td>\n",
       "      <td>302006.000000</td>\n",
       "      <td>302006.000000</td>\n",
       "      <td>302006.000000</td>\n",
       "      <td>302006.000000</td>\n",
       "      <td>298029.000000</td>\n",
       "      <td>302006.000000</td>\n",
       "    </tr>\n",
       "    <tr>\n",
       "      <th>mean</th>\n",
       "      <td>5.495836e+06</td>\n",
       "      <td>55006.867897</td>\n",
       "      <td>5.501470e+09</td>\n",
       "      <td>50299.029208</td>\n",
       "      <td>35.480759</td>\n",
       "      <td>2023.164924</td>\n",
       "      <td>5.359271</td>\n",
       "      <td>254.664454</td>\n",
       "      <td>1323.100883</td>\n",
       "      <td>3.162586</td>\n",
       "    </tr>\n",
       "    <tr>\n",
       "      <th>std</th>\n",
       "      <td>2.594146e+06</td>\n",
       "      <td>25992.407852</td>\n",
       "      <td>2.594468e+09</td>\n",
       "      <td>28956.563492</td>\n",
       "      <td>15.017513</td>\n",
       "      <td>0.371112</td>\n",
       "      <td>2.866892</td>\n",
       "      <td>141.306998</td>\n",
       "      <td>1068.834683</td>\n",
       "      <td>1.320425</td>\n",
       "    </tr>\n",
       "    <tr>\n",
       "      <th>min</th>\n",
       "      <td>1.000007e+06</td>\n",
       "      <td>10000.000000</td>\n",
       "      <td>1.000049e+09</td>\n",
       "      <td>501.000000</td>\n",
       "      <td>18.000000</td>\n",
       "      <td>2023.000000</td>\n",
       "      <td>1.000000</td>\n",
       "      <td>10.000000</td>\n",
       "      <td>10.000000</td>\n",
       "      <td>1.000000</td>\n",
       "    </tr>\n",
       "    <tr>\n",
       "      <th>25%</th>\n",
       "      <td>3.250523e+06</td>\n",
       "      <td>32490.250000</td>\n",
       "      <td>3.257286e+09</td>\n",
       "      <td>25456.250000</td>\n",
       "      <td>22.000000</td>\n",
       "      <td>2023.000000</td>\n",
       "      <td>3.000000</td>\n",
       "      <td>133.000000</td>\n",
       "      <td>433.000000</td>\n",
       "      <td>2.000000</td>\n",
       "    </tr>\n",
       "    <tr>\n",
       "      <th>50%</th>\n",
       "      <td>5.495822e+06</td>\n",
       "      <td>55006.000000</td>\n",
       "      <td>5.501464e+09</td>\n",
       "      <td>50547.000000</td>\n",
       "      <td>32.000000</td>\n",
       "      <td>2023.000000</td>\n",
       "      <td>5.000000</td>\n",
       "      <td>255.000000</td>\n",
       "      <td>1021.000000</td>\n",
       "      <td>3.000000</td>\n",
       "    </tr>\n",
       "    <tr>\n",
       "      <th>75%</th>\n",
       "      <td>7.737378e+06</td>\n",
       "      <td>77489.000000</td>\n",
       "      <td>7.747486e+09</td>\n",
       "      <td>75214.500000</td>\n",
       "      <td>46.000000</td>\n",
       "      <td>2023.000000</td>\n",
       "      <td>8.000000</td>\n",
       "      <td>377.000000</td>\n",
       "      <td>1977.000000</td>\n",
       "      <td>4.000000</td>\n",
       "    </tr>\n",
       "    <tr>\n",
       "      <th>max</th>\n",
       "      <td>9.999995e+06</td>\n",
       "      <td>99999.000000</td>\n",
       "      <td>9.999996e+09</td>\n",
       "      <td>99949.000000</td>\n",
       "      <td>70.000000</td>\n",
       "      <td>2024.000000</td>\n",
       "      <td>10.000000</td>\n",
       "      <td>499.000000</td>\n",
       "      <td>4409.000000</td>\n",
       "      <td>5.000000</td>\n",
       "    </tr>\n",
       "  </tbody>\n",
       "</table>\n",
       "</div>"
      ],
      "text/plain": [
       "       Transaction_ID    Customer_ID         Phone        Zipcode  \\\n",
       "count    3.020060e+05  302006.000000  3.020060e+05  302006.000000   \n",
       "mean     5.495836e+06   55006.867897  5.501470e+09   50299.029208   \n",
       "std      2.594146e+06   25992.407852  2.594468e+09   28956.563492   \n",
       "min      1.000007e+06   10000.000000  1.000049e+09     501.000000   \n",
       "25%      3.250523e+06   32490.250000  3.257286e+09   25456.250000   \n",
       "50%      5.495822e+06   55006.000000  5.501464e+09   50547.000000   \n",
       "75%      7.737378e+06   77489.000000  7.747486e+09   75214.500000   \n",
       "max      9.999995e+06   99999.000000  9.999996e+09   99949.000000   \n",
       "\n",
       "                 Age           Year  Total_Purchases         Amount  \\\n",
       "count  302006.000000  302006.000000    302006.000000  302006.000000   \n",
       "mean       35.480759    2023.164924         5.359271     254.664454   \n",
       "std        15.017513       0.371112         2.866892     141.306998   \n",
       "min        18.000000    2023.000000         1.000000      10.000000   \n",
       "25%        22.000000    2023.000000         3.000000     133.000000   \n",
       "50%        32.000000    2023.000000         5.000000     255.000000   \n",
       "75%        46.000000    2023.000000         8.000000     377.000000   \n",
       "max        70.000000    2024.000000        10.000000     499.000000   \n",
       "\n",
       "        Total_Amount        Ratings  \n",
       "count  298029.000000  302006.000000  \n",
       "mean     1323.100883       3.162586  \n",
       "std      1068.834683       1.320425  \n",
       "min        10.000000       1.000000  \n",
       "25%       433.000000       2.000000  \n",
       "50%      1021.000000       3.000000  \n",
       "75%      1977.000000       4.000000  \n",
       "max      4409.000000       5.000000  "
      ]
     },
     "execution_count": 23,
     "metadata": {},
     "output_type": "execute_result"
    }
   ],
   "source": [
    "df.describe()"
   ]
  },
  {
   "cell_type": "code",
   "execution_count": 24,
   "metadata": {},
   "outputs": [
    {
     "data": {
      "text/plain": [
       "Transaction_ID        int64\n",
       "Customer_ID           int64\n",
       "Name                 object\n",
       "Email                object\n",
       "Phone                 int64\n",
       "Address              object\n",
       "City                 object\n",
       "State                object\n",
       "Zipcode               int64\n",
       "Country              object\n",
       "Age                   int64\n",
       "Gender               object\n",
       "Income               object\n",
       "Customer_Segment     object\n",
       "Date                 object\n",
       "Year                  int64\n",
       "Month                object\n",
       "Time                 object\n",
       "Total_Purchases       int64\n",
       "Amount                int64\n",
       "Total_Amount        float64\n",
       "Product_Category     object\n",
       "Product_Brand        object\n",
       "Product_Type         object\n",
       "Feedback             object\n",
       "Shipping_Method      object\n",
       "Payment_Method       object\n",
       "Order_Status         object\n",
       "Ratings               int64\n",
       "products             object\n",
       "dtype: object"
      ]
     },
     "execution_count": 24,
     "metadata": {},
     "output_type": "execute_result"
    }
   ],
   "source": [
    "df.dtypes"
   ]
  },
  {
   "cell_type": "markdown",
   "metadata": {},
   "source": [
    "**cleaning done**"
   ]
  },
  {
   "cell_type": "markdown",
   "metadata": {},
   "source": []
  },
  {
   "cell_type": "markdown",
   "metadata": {},
   "source": [
    "# 1.Univariate analysis"
   ]
  },
  {
   "cell_type": "markdown",
   "metadata": {},
   "source": [
    "**Numerical**"
   ]
  },
  {
   "cell_type": "code",
   "execution_count": 25,
   "metadata": {},
   "outputs": [
    {
     "data": {
      "text/html": [
       "<div>\n",
       "<style scoped>\n",
       "    .dataframe tbody tr th:only-of-type {\n",
       "        vertical-align: middle;\n",
       "    }\n",
       "\n",
       "    .dataframe tbody tr th {\n",
       "        vertical-align: top;\n",
       "    }\n",
       "\n",
       "    .dataframe thead th {\n",
       "        text-align: right;\n",
       "    }\n",
       "</style>\n",
       "<table border=\"1\" class=\"dataframe\">\n",
       "  <thead>\n",
       "    <tr style=\"text-align: right;\">\n",
       "      <th></th>\n",
       "      <th>Transaction_ID</th>\n",
       "      <th>Customer_ID</th>\n",
       "      <th>Phone</th>\n",
       "      <th>Zipcode</th>\n",
       "      <th>Age</th>\n",
       "      <th>Year</th>\n",
       "      <th>Total_Purchases</th>\n",
       "      <th>Amount</th>\n",
       "      <th>Total_Amount</th>\n",
       "      <th>Ratings</th>\n",
       "    </tr>\n",
       "  </thead>\n",
       "  <tbody>\n",
       "    <tr>\n",
       "      <th>count</th>\n",
       "      <td>3.020060e+05</td>\n",
       "      <td>302006.000000</td>\n",
       "      <td>3.020060e+05</td>\n",
       "      <td>302006.000000</td>\n",
       "      <td>302006.000000</td>\n",
       "      <td>302006.000000</td>\n",
       "      <td>302006.000000</td>\n",
       "      <td>302006.000000</td>\n",
       "      <td>298029.000000</td>\n",
       "      <td>302006.000000</td>\n",
       "    </tr>\n",
       "    <tr>\n",
       "      <th>mean</th>\n",
       "      <td>5.495836e+06</td>\n",
       "      <td>55006.867897</td>\n",
       "      <td>5.501470e+09</td>\n",
       "      <td>50299.029208</td>\n",
       "      <td>35.480759</td>\n",
       "      <td>2023.164924</td>\n",
       "      <td>5.359271</td>\n",
       "      <td>254.664454</td>\n",
       "      <td>1323.100883</td>\n",
       "      <td>3.162586</td>\n",
       "    </tr>\n",
       "    <tr>\n",
       "      <th>std</th>\n",
       "      <td>2.594146e+06</td>\n",
       "      <td>25992.407852</td>\n",
       "      <td>2.594468e+09</td>\n",
       "      <td>28956.563492</td>\n",
       "      <td>15.017513</td>\n",
       "      <td>0.371112</td>\n",
       "      <td>2.866892</td>\n",
       "      <td>141.306998</td>\n",
       "      <td>1068.834683</td>\n",
       "      <td>1.320425</td>\n",
       "    </tr>\n",
       "    <tr>\n",
       "      <th>min</th>\n",
       "      <td>1.000007e+06</td>\n",
       "      <td>10000.000000</td>\n",
       "      <td>1.000049e+09</td>\n",
       "      <td>501.000000</td>\n",
       "      <td>18.000000</td>\n",
       "      <td>2023.000000</td>\n",
       "      <td>1.000000</td>\n",
       "      <td>10.000000</td>\n",
       "      <td>10.000000</td>\n",
       "      <td>1.000000</td>\n",
       "    </tr>\n",
       "    <tr>\n",
       "      <th>25%</th>\n",
       "      <td>3.250523e+06</td>\n",
       "      <td>32490.250000</td>\n",
       "      <td>3.257286e+09</td>\n",
       "      <td>25456.250000</td>\n",
       "      <td>22.000000</td>\n",
       "      <td>2023.000000</td>\n",
       "      <td>3.000000</td>\n",
       "      <td>133.000000</td>\n",
       "      <td>433.000000</td>\n",
       "      <td>2.000000</td>\n",
       "    </tr>\n",
       "    <tr>\n",
       "      <th>50%</th>\n",
       "      <td>5.495822e+06</td>\n",
       "      <td>55006.000000</td>\n",
       "      <td>5.501464e+09</td>\n",
       "      <td>50547.000000</td>\n",
       "      <td>32.000000</td>\n",
       "      <td>2023.000000</td>\n",
       "      <td>5.000000</td>\n",
       "      <td>255.000000</td>\n",
       "      <td>1021.000000</td>\n",
       "      <td>3.000000</td>\n",
       "    </tr>\n",
       "    <tr>\n",
       "      <th>75%</th>\n",
       "      <td>7.737378e+06</td>\n",
       "      <td>77489.000000</td>\n",
       "      <td>7.747486e+09</td>\n",
       "      <td>75214.500000</td>\n",
       "      <td>46.000000</td>\n",
       "      <td>2023.000000</td>\n",
       "      <td>8.000000</td>\n",
       "      <td>377.000000</td>\n",
       "      <td>1977.000000</td>\n",
       "      <td>4.000000</td>\n",
       "    </tr>\n",
       "    <tr>\n",
       "      <th>max</th>\n",
       "      <td>9.999995e+06</td>\n",
       "      <td>99999.000000</td>\n",
       "      <td>9.999996e+09</td>\n",
       "      <td>99949.000000</td>\n",
       "      <td>70.000000</td>\n",
       "      <td>2024.000000</td>\n",
       "      <td>10.000000</td>\n",
       "      <td>499.000000</td>\n",
       "      <td>4409.000000</td>\n",
       "      <td>5.000000</td>\n",
       "    </tr>\n",
       "  </tbody>\n",
       "</table>\n",
       "</div>"
      ],
      "text/plain": [
       "       Transaction_ID    Customer_ID         Phone        Zipcode  \\\n",
       "count    3.020060e+05  302006.000000  3.020060e+05  302006.000000   \n",
       "mean     5.495836e+06   55006.867897  5.501470e+09   50299.029208   \n",
       "std      2.594146e+06   25992.407852  2.594468e+09   28956.563492   \n",
       "min      1.000007e+06   10000.000000  1.000049e+09     501.000000   \n",
       "25%      3.250523e+06   32490.250000  3.257286e+09   25456.250000   \n",
       "50%      5.495822e+06   55006.000000  5.501464e+09   50547.000000   \n",
       "75%      7.737378e+06   77489.000000  7.747486e+09   75214.500000   \n",
       "max      9.999995e+06   99999.000000  9.999996e+09   99949.000000   \n",
       "\n",
       "                 Age           Year  Total_Purchases         Amount  \\\n",
       "count  302006.000000  302006.000000    302006.000000  302006.000000   \n",
       "mean       35.480759    2023.164924         5.359271     254.664454   \n",
       "std        15.017513       0.371112         2.866892     141.306998   \n",
       "min        18.000000    2023.000000         1.000000      10.000000   \n",
       "25%        22.000000    2023.000000         3.000000     133.000000   \n",
       "50%        32.000000    2023.000000         5.000000     255.000000   \n",
       "75%        46.000000    2023.000000         8.000000     377.000000   \n",
       "max        70.000000    2024.000000        10.000000     499.000000   \n",
       "\n",
       "        Total_Amount        Ratings  \n",
       "count  298029.000000  302006.000000  \n",
       "mean     1323.100883       3.162586  \n",
       "std      1068.834683       1.320425  \n",
       "min        10.000000       1.000000  \n",
       "25%       433.000000       2.000000  \n",
       "50%      1021.000000       3.000000  \n",
       "75%      1977.000000       4.000000  \n",
       "max      4409.000000       5.000000  "
      ]
     },
     "execution_count": 25,
     "metadata": {},
     "output_type": "execute_result"
    }
   ],
   "source": [
    "df.describe()"
   ]
  },
  {
   "cell_type": "markdown",
   "metadata": {},
   "source": [
    "Total_Amount"
   ]
  },
  {
   "cell_type": "code",
   "execution_count": 26,
   "metadata": {},
   "outputs": [
    {
     "data": {
      "text/plain": [
       "<Axes: xlabel='Ratings'>"
      ]
     },
     "execution_count": 26,
     "metadata": {},
     "output_type": "execute_result"
    },
    {
     "data": {
      "image/png": "[encoded data removed]",
      "text/plain": [
       "<Figure size 640x480 with 1 Axes>"
      ]
     },
     "metadata": {},
     "output_type": "display_data"
    }
   ],
   "source": [
    "df['Ratings'].value_counts().plot(kind='bar')\n"
   ]
  },
  {
   "cell_type": "markdown",
   "metadata": {},
   "source": [
    "hence we get less low rating and more high rating.Hence,overall we perform good "
   ]
  },
  {
   "cell_type": "code",
   "execution_count": 27,
   "metadata": {},
   "outputs": [
    {
     "data": {
      "text/plain": [
       "<Axes: xlabel='Age', ylabel='Density'>"
      ]
     },
     "execution_count": 27,
     "metadata": {},
     "output_type": "execute_result"
    },
    {
     "data": {
      "image/png": "[encoded data removed]",
      "text/plain": [
       "<Figure size 640x480 with 1 Axes>"
      ]
     },
     "metadata": {},
     "output_type": "display_data"
    }
   ],
   "source": [
    "sns.distplot(df['Age'])"
   ]
  },
  {
   "cell_type": "markdown",
   "metadata": {},
   "source": [
    " age group come mpst frequently is ( 15 to 25) and then (40 to 50)"
   ]
  },
  {
   "cell_type": "code",
   "execution_count": 28,
   "metadata": {},
   "outputs": [
    {
     "data": {
      "text/plain": [
       "Text(0.5, 1.0, 'density of Age')"
      ]
     },
     "execution_count": 28,
     "metadata": {},
     "output_type": "execute_result"
    },
    {
     "data": {
      "image/png": "[encoded data removed]",
      "text/plain": [
       "<Figure size 640x480 with 1 Axes>"
      ]
     },
     "metadata": {},
     "output_type": "display_data"
    }
   ],
   "source": [
    "plt.hist(df['Age'],bins=10,edgecolor='black')\n",
    "plt.title(\"density of Age\")"
   ]
  },
  {
   "cell_type": "markdown",
   "metadata": {},
   "source": []
  },
  {
   "cell_type": "code",
   "execution_count": 29,
   "metadata": {},
   "outputs": [
    {
     "data": {
      "text/plain": [
       "Text(0.5, 1.0, 'boxplot of ratings')"
      ]
     },
     "execution_count": 29,
     "metadata": {},
     "output_type": "execute_result"
    },
    {
     "data": {
      "image/png": "[encoded data removed]",
      "text/plain": [
       "<Figure size 640x480 with 1 Axes>"
      ]
     },
     "metadata": {},
     "output_type": "display_data"
    }
   ],
   "source": [
    "sns.boxplot(df['Ratings'])\n",
    "plt.title(\"boxplot of ratings\")"
   ]
  },
  {
   "cell_type": "markdown",
   "metadata": {},
   "source": [
    "the distribution of ratings is approximately normally distributed"
   ]
  },
  {
   "cell_type": "code",
   "execution_count": 84,
   "metadata": {},
   "outputs": [
    {
     "data": {
      "text/plain": [
       "<Axes: xlabel='Year', ylabel='Density'>"
      ]
     },
     "execution_count": 84,
     "metadata": {},
     "output_type": "execute_result"
    },
    {
     "data": {
      "image/png": "[encoded data removed]",
      "text/plain": [
       "<Figure size 640x480 with 1 Axes>"
      ]
     },
     "metadata": {},
     "output_type": "display_data"
    }
   ],
   "source": [
    "sns.kdeplot(data=df['Year'],shade=True)"
   ]
  },
  {
   "cell_type": "markdown",
   "metadata": {},
   "source": [
    "categorical"
   ]
  },
  {
   "cell_type": "code",
   "execution_count": 30,
   "metadata": {},
   "outputs": [
    {
     "data": {
      "text/plain": [
       "Text(0.5, 1.0, 'GENDER')"
      ]
     },
     "execution_count": 30,
     "metadata": {},
     "output_type": "execute_result"
    },
    {
     "data": {
      "image/png": "[encoded data removed]",
      "text/plain": [
       "<Figure size 640x480 with 1 Axes>"
      ]
     },
     "metadata": {},
     "output_type": "display_data"
    }
   ],
   "source": [
    "df['Gender'].value_counts().plot(kind=\"pie\",autopct=\"%1.2f%%\")\n",
    "plt.title('GENDER')"
   ]
  },
  {
   "cell_type": "markdown",
   "metadata": {},
   "source": [
    "MORE MALE CUSTOMER THAN THE FEMALE CUSTOMER"
   ]
  },
  {
   "cell_type": "code",
   "execution_count": 31,
   "metadata": {},
   "outputs": [
    {
     "data": {
      "text/plain": [
       "Text(0.5, 1.0, 'income of customer')"
      ]
     },
     "execution_count": 31,
     "metadata": {},
     "output_type": "execute_result"
    },
    {
     "data": {
      "image/png": "[encoded data removed]",
      "text/plain": [
       "<Figure size 640x480 with 1 Axes>"
      ]
     },
     "metadata": {},
     "output_type": "display_data"
    }
   ],
   "source": [
    "df['Income'].value_counts().plot(kind='bar')\n",
    "plt.title(\"income of customer\")"
   ]
  },
  {
   "cell_type": "markdown",
   "metadata": {},
   "source": [
    "Largely customer having medium income and low income come more frequently and hence products of appropiable price used be more in stock"
   ]
  },
  {
   "cell_type": "code",
   "execution_count": 32,
   "metadata": {},
   "outputs": [
    {
     "data": {
      "text/plain": [
       "Text(0.5, 1.0, ' no. of customers come in a month')"
      ]
     },
     "execution_count": 32,
     "metadata": {},
     "output_type": "execute_result"
    },
    {
     "data": {
      "image/png": "[encoded data removed]",
      "text/plain": [
       "<Figure size 640x480 with 1 Axes>"
      ]
     },
     "metadata": {},
     "output_type": "display_data"
    }
   ],
   "source": [
    "df['Month'].value_counts().plot(kind='bar')\n",
    "plt.title(\" no. of customers come in a month\")"
   ]
  },
  {
   "cell_type": "markdown",
   "metadata": {},
   "source": [
    "So more selling in some month ,so be ready for that and for the month in which selling is low ,try to attrct consumers"
   ]
  },
  {
   "cell_type": "code",
   "execution_count": 33,
   "metadata": {},
   "outputs": [
    {
     "data": {
      "text/plain": [
       "Text(0.5, 1.0, 'feedback')"
      ]
     },
     "execution_count": 33,
     "metadata": {},
     "output_type": "execute_result"
    },
    {
     "data": {
      "image/png": "[encoded data removed]",
      "text/plain": [
       "<Figure size 640x480 with 1 Axes>"
      ]
     },
     "metadata": {},
     "output_type": "display_data"
    }
   ],
   "source": [
    "df['Feedback'].value_counts().plot(kind='bar')\n",
    "plt.title(\"feedback\")"
   ]
  },
  {
   "cell_type": "markdown",
   "metadata": {},
   "source": [
    "More positive feedback try to maintain this and from negative feedback try to improve and learn from it"
   ]
  },
  {
   "cell_type": "code",
   "execution_count": 34,
   "metadata": {},
   "outputs": [
    {
     "data": {
      "text/plain": [
       "Text(0.5, 1.0, 'Payment Methods')"
      ]
     },
     "execution_count": 34,
     "metadata": {},
     "output_type": "execute_result"
    },
    {
     "data": {
      "image/png": "[encoded data removed]",
      "text/plain": [
       "<Figure size 640x480 with 1 Axes>"
      ]
     },
     "metadata": {},
     "output_type": "display_data"
    }
   ],
   "source": [
    "df['Payment_Method'].value_counts().plot(kind=\"pie\",autopct=\"%1.2f%%\")\n",
    "plt.title('Payment Methods')"
   ]
  },
  {
   "cell_type": "markdown",
   "metadata": {},
   "source": [
    "So,almost similar percentage of different modes of payment and hence all required measures should be taken so that all modes of payment could be done"
   ]
  },
  {
   "cell_type": "code",
   "execution_count": 85,
   "metadata": {},
   "outputs": [
    {
     "data": {
      "text/plain": [
       "Country\n",
       "USA          95494\n",
       "UK           63065\n",
       "Germany      52829\n",
       "Australia    45318\n",
       "Canada       45300\n",
       "Name: count, dtype: int64"
      ]
     },
     "execution_count": 85,
     "metadata": {},
     "output_type": "execute_result"
    }
   ],
   "source": [
    "df['Country'].value_counts()"
   ]
  },
  {
   "cell_type": "code",
   "execution_count": 86,
   "metadata": {},
   "outputs": [
    {
     "data": {
      "text/plain": [
       "<Axes: xlabel='Country'>"
      ]
     },
     "execution_count": 86,
     "metadata": {},
     "output_type": "execute_result"
    },
    {
     "data": {
      "image/png": "[encoded data removed]",
      "text/plain": [
       "<Figure size 640x480 with 1 Axes>"
      ]
     },
     "metadata": {},
     "output_type": "display_data"
    }
   ],
   "source": [
    "df['Country'].value_counts().plot(kind='bar')\n",
    "\n",
    "\n",
    "\n"
   ]
  },
  {
   "cell_type": "markdown",
   "metadata": {},
   "source": [
    "More customers come from USA .Less from Australia and Cananda ,hence there is requirement of advertisement and other required measures to increase customers from this countries."
   ]
  },
  {
   "cell_type": "markdown",
   "metadata": {},
   "source": [
    "# Bivariate Analysis"
   ]
  },
  {
   "cell_type": "markdown",
   "metadata": {},
   "source": [
    "**numerical-numerical**"
   ]
  },
  {
   "cell_type": "code",
   "execution_count": 36,
   "metadata": {},
   "outputs": [
    {
     "data": {
      "text/plain": [
       "array([[1.        , 0.03327314],\n",
       "       [0.03327314, 1.        ]])"
      ]
     },
     "execution_count": 36,
     "metadata": {},
     "output_type": "execute_result"
    }
   ],
   "source": [
    "np.corrcoef(df['Age'],df['Total_Purchases'])"
   ]
  },
  {
   "cell_type": "markdown",
   "metadata": {},
   "source": [
    "there is no linear relation between age of the customer and quantity of a product he/she would purchase"
   ]
  },
  {
   "cell_type": "code",
   "execution_count": 37,
   "metadata": {},
   "outputs": [
    {
     "data": {
      "text/plain": [
       "Age\n",
       "18    3.002419\n",
       "19    5.010863\n",
       "20    5.197618\n",
       "21    5.414825\n",
       "22    5.386874\n",
       "23    5.380192\n",
       "24    5.468412\n",
       "25    5.435621\n",
       "26    5.355721\n",
       "27    5.570984\n",
       "28    5.501547\n",
       "29    5.566535\n",
       "30    5.422155\n",
       "31    5.494528\n",
       "32    5.388933\n",
       "33    5.551931\n",
       "34    5.395652\n",
       "35    5.438971\n",
       "36    5.483221\n",
       "37    5.494168\n",
       "38    5.397983\n",
       "39    5.510259\n",
       "40    5.458173\n",
       "41    5.540270\n",
       "42    5.423584\n",
       "43    5.514657\n",
       "44    5.402951\n",
       "45    5.500785\n",
       "46    5.396859\n",
       "47    5.457471\n",
       "48    5.432509\n",
       "49    5.485414\n",
       "50    5.464713\n",
       "51    5.595686\n",
       "52    5.536142\n",
       "53    5.442655\n",
       "54    5.519284\n",
       "55    5.405045\n",
       "56    5.529412\n",
       "57    5.462941\n",
       "58    5.426249\n",
       "59    5.438943\n",
       "60    5.495802\n",
       "61    5.499029\n",
       "62    5.567062\n",
       "63    5.445179\n",
       "64    5.567057\n",
       "65    5.500381\n",
       "66    5.433711\n",
       "67    5.383379\n",
       "68    5.473960\n",
       "69    5.432778\n",
       "70    5.395391\n",
       "Name: Total_Purchases, dtype: float64"
      ]
     },
     "execution_count": 37,
     "metadata": {},
     "output_type": "execute_result"
    }
   ],
   "source": [
    "a=df.groupby(by=df['Age'])['Total_Purchases'].mean()\n",
    "a"
   ]
  },
  {
   "cell_type": "code",
   "execution_count": 38,
   "metadata": {},
   "outputs": [
    {
     "data": {
      "text/plain": [
       "<Axes: xlabel='Age', ylabel='Total_Purchases'>"
      ]
     },
     "execution_count": 38,
     "metadata": {},
     "output_type": "execute_result"
    },
    {
     "data": {
      "image/png": "[encoded data removed]",
      "text/plain": [
       "<Figure size 640x480 with 1 Axes>"
      ]
     },
     "metadata": {},
     "output_type": "display_data"
    }
   ],
   "source": [
    "sns.scatterplot(a)"
   ]
  },
  {
   "cell_type": "markdown",
   "metadata": {},
   "source": [
    "almost, there is no dependence of age of the customer\n",
    " on total_purchases i.e, almost all age group\n",
    "  purshase averagely same quantity of a product\n",
    "and  avarage is near 5.5 which is very good and \n",
    "hence we have to maintain it"
   ]
  },
  {
   "cell_type": "code",
   "execution_count": 39,
   "metadata": {},
   "outputs": [
    {
     "data": {
      "text/plain": [
       "Age\n",
       "18    3.208065\n",
       "19    2.820729\n",
       "20    2.775881\n",
       "21    2.912590\n",
       "22    2.801025\n",
       "23    2.790107\n",
       "24    2.927290\n",
       "25    3.210100\n",
       "26    3.112521\n",
       "27    3.201089\n",
       "28    3.233565\n",
       "29    3.245276\n",
       "30    3.251618\n",
       "31    3.211998\n",
       "32    3.285375\n",
       "33    3.258718\n",
       "34    3.192572\n",
       "35    3.245563\n",
       "36    3.206562\n",
       "37    3.221617\n",
       "38    3.244375\n",
       "39    3.220286\n",
       "40    3.211819\n",
       "41    3.248170\n",
       "42    3.218774\n",
       "43    3.203711\n",
       "44    3.244798\n",
       "45    3.231947\n",
       "46    4.032056\n",
       "47    3.208812\n",
       "48    3.363281\n",
       "49    3.255154\n",
       "50    3.220208\n",
       "51    3.223529\n",
       "52    3.266718\n",
       "53    3.212490\n",
       "54    3.227833\n",
       "55    3.780479\n",
       "56    3.214801\n",
       "57    3.234769\n",
       "58    3.226094\n",
       "59    3.240134\n",
       "60    3.256870\n",
       "61    3.209709\n",
       "62    3.200994\n",
       "63    3.238725\n",
       "64    3.204382\n",
       "65    3.246382\n",
       "66    3.221099\n",
       "67    3.228930\n",
       "68    3.231173\n",
       "69    3.262689\n",
       "70    3.186540\n",
       "Name: Ratings, dtype: float64"
      ]
     },
     "execution_count": 39,
     "metadata": {},
     "output_type": "execute_result"
    }
   ],
   "source": [
    "b=df.groupby(by=df['Age'])['Ratings'].mean()\n",
    "b"
   ]
  },
  {
   "cell_type": "code",
   "execution_count": 40,
   "metadata": {},
   "outputs": [
    {
     "data": {
      "text/plain": [
       "<Axes: xlabel='Age', ylabel='Ratings'>"
      ]
     },
     "execution_count": 40,
     "metadata": {},
     "output_type": "execute_result"
    },
    {
     "data": {
      "image/png": "[encoded data removed]",
      "text/plain": [
       "<Figure size 640x480 with 1 Axes>"
      ]
     },
     "metadata": {},
     "output_type": "display_data"
    }
   ],
   "source": [
    "sns.scatterplot(b)\n"
   ]
  },
  {
   "cell_type": "markdown",
   "metadata": {},
   "source": [
    "hence ,all customer of different ages avaragely give same ratings which is around 3.2,which shows that we need some improvement may be in quality of product,servising etc"
   ]
  },
  {
   "cell_type": "markdown",
   "metadata": {},
   "source": [
    "**Categorical-Numerical**"
   ]
  },
  {
   "cell_type": "code",
   "execution_count": 41,
   "metadata": {},
   "outputs": [
    {
     "data": {
      "text/plain": [
       "Text(0.5, 1.0, 'Ratings VS Income')"
      ]
     },
     "execution_count": 41,
     "metadata": {},
     "output_type": "execute_result"
    },
    {
     "data": {
      "image/png": "[encoded data removed]",
      "text/plain": [
       "<Figure size 640x480 with 1 Axes>"
      ]
     },
     "metadata": {},
     "output_type": "display_data"
    }
   ],
   "source": [
    "sns.barplot(data=df,x='Income',y='Ratings',edgecolor='black',color='blue')\n",
    "plt.title(\"Ratings VS Income\")"
   ]
  },
  {
   "cell_type": "code",
   "execution_count": 42,
   "metadata": {},
   "outputs": [],
   "source": [
    "P=df.loc[df['Income']=='Low','Ratings'].to_numpy()\n",
    "Q=df.loc[df['Income']=='Medium','Ratings'].to_numpy()\n",
    "R=df.loc[df['Income']=='High','Ratings'].to_numpy()"
   ]
  },
  {
   "cell_type": "code",
   "execution_count": 43,
   "metadata": {},
   "outputs": [],
   "source": [
    "f,p=st.f_oneway(P,Q,R)\n"
   ]
  },
  {
   "cell_type": "code",
   "execution_count": 44,
   "metadata": {},
   "outputs": [
    {
     "name": "stdout",
     "output_type": "stream",
     "text": [
      "probability that the difference between the ratings given by customer having differnt income is just by random is= 1.6572963575871092e-242\n"
     ]
    }
   ],
   "source": [
    "print(\"probability that the difference between the ratings given by customer having differnt income is just by random is=\",p) "
   ]
  },
  {
   "cell_type": "markdown",
   "metadata": {},
   "source": [
    "since probabilty is less that 0.05 hence there is a statistical differnce between them"
   ]
  },
  {
   "cell_type": "code",
   "execution_count": 45,
   "metadata": {},
   "outputs": [
    {
     "data": {
      "text/plain": [
       "Text(0.5, 1.0, 'Total purchases by male and female')"
      ]
     },
     "execution_count": 45,
     "metadata": {},
     "output_type": "execute_result"
    },
    {
     "data": {
      "image/png": "[encoded data removed]",
      "text/plain": [
       "<Figure size 640x480 with 1 Axes>"
      ]
     },
     "metadata": {},
     "output_type": "display_data"
    }
   ],
   "source": [
    "sns.boxplot(data=df,x='Gender',y='Total_Purchases',color='red')\n",
    "plt.title('Total purchases by male and female')"
   ]
  },
  {
   "cell_type": "markdown",
   "metadata": {},
   "source": [
    "shows there is no differnce in distribution of quantity of a product purchase by male and female"
   ]
  },
  {
   "cell_type": "code",
   "execution_count": 46,
   "metadata": {},
   "outputs": [],
   "source": [
    "A=df.loc[df['Gender']=='Male','Total_Purchases'].to_numpy()\n",
    "B=df.loc[df['Gender']=='Female','Total_Purchases'].to_numpy()"
   ]
  },
  {
   "cell_type": "code",
   "execution_count": 47,
   "metadata": {},
   "outputs": [
    {
     "data": {
      "text/plain": [
       "TtestResult(statistic=np.float64(0.05014955426111476), pvalue=np.float64(0.9600032439638765), df=np.float64(302004.0))"
      ]
     },
     "execution_count": 47,
     "metadata": {},
     "output_type": "execute_result"
    }
   ],
   "source": [
    "st.ttest_ind(A,B,equal_var=True)"
   ]
  },
  {
   "cell_type": "markdown",
   "metadata": {},
   "source": [
    "since p value is 0.84 which is greater than 0.05 hence there is no statistical differnce between them i.e difference between the total purchases by male and female customer is just by random"
   ]
  },
  {
   "cell_type": "code",
   "execution_count": 48,
   "metadata": {},
   "outputs": [
    {
     "data": {
      "text/plain": [
       "Product_Brand\n",
       "Adidas               254.021441\n",
       "Apple                254.200354\n",
       "Bed Bath & Beyond    255.192063\n",
       "BlueStar             254.843085\n",
       "Coca-Cola            254.661429\n",
       "HarperCollins        253.538822\n",
       "Home Depot           254.555139\n",
       "IKEA                 254.164610\n",
       "Mitsubhisi           254.283462\n",
       "Nestle               254.470650\n",
       "Nike                 254.958377\n",
       "Penguin Books        255.093009\n",
       "Pepsi                254.899840\n",
       "Random House         254.975003\n",
       "Samsung              256.419950\n",
       "Sony                 255.387740\n",
       "Whirepool            252.607119\n",
       "Zara                 254.214154\n",
       "Name: Amount, dtype: float64"
      ]
     },
     "execution_count": 48,
     "metadata": {},
     "output_type": "execute_result"
    }
   ],
   "source": [
    "df.groupby(by='Product_Brand')['Amount'].mean()"
   ]
  },
  {
   "cell_type": "markdown",
   "metadata": {},
   "source": [
    "all Product brands almost has same prices for their product"
   ]
  },
  {
   "cell_type": "markdown",
   "metadata": {},
   "source": [
    "**categorical-categorical**"
   ]
  },
  {
   "cell_type": "code",
   "execution_count": 49,
   "metadata": {},
   "outputs": [
    {
     "data": {
      "text/html": [
       "<div>\n",
       "<style scoped>\n",
       "    .dataframe tbody tr th:only-of-type {\n",
       "        vertical-align: middle;\n",
       "    }\n",
       "\n",
       "    .dataframe tbody tr th {\n",
       "        vertical-align: top;\n",
       "    }\n",
       "\n",
       "    .dataframe thead th {\n",
       "        text-align: right;\n",
       "    }\n",
       "</style>\n",
       "<table border=\"1\" class=\"dataframe\">\n",
       "  <thead>\n",
       "    <tr style=\"text-align: right;\">\n",
       "      <th>Payment_Method</th>\n",
       "      <th>Cash</th>\n",
       "      <th>Credit Card</th>\n",
       "      <th>Debit Card</th>\n",
       "      <th>PayPal</th>\n",
       "    </tr>\n",
       "    <tr>\n",
       "      <th>Customer_Segment</th>\n",
       "      <th></th>\n",
       "      <th></th>\n",
       "      <th></th>\n",
       "      <th></th>\n",
       "    </tr>\n",
       "  </thead>\n",
       "  <tbody>\n",
       "    <tr>\n",
       "      <th>New</th>\n",
       "      <td>22332</td>\n",
       "      <td>27809</td>\n",
       "      <td>23143</td>\n",
       "      <td>17901</td>\n",
       "    </tr>\n",
       "    <tr>\n",
       "      <th>Premium</th>\n",
       "      <td>15464</td>\n",
       "      <td>21028</td>\n",
       "      <td>16525</td>\n",
       "      <td>11370</td>\n",
       "    </tr>\n",
       "    <tr>\n",
       "      <th>Regular</th>\n",
       "      <td>36011</td>\n",
       "      <td>41575</td>\n",
       "      <td>37122</td>\n",
       "      <td>31726</td>\n",
       "    </tr>\n",
       "  </tbody>\n",
       "</table>\n",
       "</div>"
      ],
      "text/plain": [
       "Payment_Method     Cash  Credit Card  Debit Card  PayPal\n",
       "Customer_Segment                                        \n",
       "New               22332        27809       23143   17901\n",
       "Premium           15464        21028       16525   11370\n",
       "Regular           36011        41575       37122   31726"
      ]
     },
     "execution_count": 49,
     "metadata": {},
     "output_type": "execute_result"
    }
   ],
   "source": [
    "c=pd.crosstab(df['Customer_Segment'],df['Payment_Method'])\n",
    "c"
   ]
  },
  {
   "cell_type": "code",
   "execution_count": 50,
   "metadata": {},
   "outputs": [
    {
     "data": {
      "text/plain": [
       "<Axes: xlabel='Payment_Method', ylabel='Customer_Segment'>"
      ]
     },
     "execution_count": 50,
     "metadata": {},
     "output_type": "execute_result"
    },
    {
     "data": {
      "image/png": "[encoded data removed]",
      "text/plain": [
       "<Figure size 640x480 with 1 Axes>"
      ]
     },
     "metadata": {},
     "output_type": "display_data"
    }
   ],
   "source": [
    "sns.heatmap(c,annot=True,cbar=False)"
   ]
  },
  {
   "cell_type": "markdown",
   "metadata": {},
   "source": [
    "so our all types of customer uses differnt payment method in almost same proportion,but for all types of customer payment through credit card is most prefered"
   ]
  },
  {
   "cell_type": "code",
   "execution_count": 51,
   "metadata": {},
   "outputs": [
    {
     "data": {
      "text/html": [
       "<div>\n",
       "<style scoped>\n",
       "    .dataframe tbody tr th:only-of-type {\n",
       "        vertical-align: middle;\n",
       "    }\n",
       "\n",
       "    .dataframe tbody tr th {\n",
       "        vertical-align: top;\n",
       "    }\n",
       "\n",
       "    .dataframe thead th {\n",
       "        text-align: right;\n",
       "    }\n",
       "</style>\n",
       "<table border=\"1\" class=\"dataframe\">\n",
       "  <thead>\n",
       "    <tr style=\"text-align: right;\">\n",
       "      <th>Feedback</th>\n",
       "      <th>Average</th>\n",
       "      <th>Bad</th>\n",
       "      <th>Excellent</th>\n",
       "      <th>Good</th>\n",
       "    </tr>\n",
       "    <tr>\n",
       "      <th>Product_Brand</th>\n",
       "      <th></th>\n",
       "      <th></th>\n",
       "      <th></th>\n",
       "      <th></th>\n",
       "    </tr>\n",
       "  </thead>\n",
       "  <tbody>\n",
       "    <tr>\n",
       "      <th>Adidas</th>\n",
       "      <td>4090</td>\n",
       "      <td>2982</td>\n",
       "      <td>6399</td>\n",
       "      <td>4765</td>\n",
       "    </tr>\n",
       "    <tr>\n",
       "      <th>Apple</th>\n",
       "      <td>4115</td>\n",
       "      <td>2889</td>\n",
       "      <td>6370</td>\n",
       "      <td>4699</td>\n",
       "    </tr>\n",
       "    <tr>\n",
       "      <th>Bed Bath &amp; Beyond</th>\n",
       "      <td>4208</td>\n",
       "      <td>2864</td>\n",
       "      <td>6446</td>\n",
       "      <td>4726</td>\n",
       "    </tr>\n",
       "    <tr>\n",
       "      <th>BlueStar</th>\n",
       "      <td>0</td>\n",
       "      <td>0</td>\n",
       "      <td>2030</td>\n",
       "      <td>226</td>\n",
       "    </tr>\n",
       "    <tr>\n",
       "      <th>Coca-Cola</th>\n",
       "      <td>4203</td>\n",
       "      <td>2946</td>\n",
       "      <td>6482</td>\n",
       "      <td>4761</td>\n",
       "    </tr>\n",
       "    <tr>\n",
       "      <th>HarperCollins</th>\n",
       "      <td>4208</td>\n",
       "      <td>2897</td>\n",
       "      <td>6446</td>\n",
       "      <td>4802</td>\n",
       "    </tr>\n",
       "    <tr>\n",
       "      <th>Home Depot</th>\n",
       "      <td>4197</td>\n",
       "      <td>2891</td>\n",
       "      <td>6343</td>\n",
       "      <td>4714</td>\n",
       "    </tr>\n",
       "    <tr>\n",
       "      <th>IKEA</th>\n",
       "      <td>4089</td>\n",
       "      <td>2805</td>\n",
       "      <td>6235</td>\n",
       "      <td>4865</td>\n",
       "    </tr>\n",
       "    <tr>\n",
       "      <th>Mitsubhisi</th>\n",
       "      <td>0</td>\n",
       "      <td>0</td>\n",
       "      <td>2553</td>\n",
       "      <td>4171</td>\n",
       "    </tr>\n",
       "    <tr>\n",
       "      <th>Nestle</th>\n",
       "      <td>4207</td>\n",
       "      <td>2809</td>\n",
       "      <td>6354</td>\n",
       "      <td>4739</td>\n",
       "    </tr>\n",
       "    <tr>\n",
       "      <th>Nike</th>\n",
       "      <td>4080</td>\n",
       "      <td>2920</td>\n",
       "      <td>6444</td>\n",
       "      <td>4695</td>\n",
       "    </tr>\n",
       "    <tr>\n",
       "      <th>Penguin Books</th>\n",
       "      <td>4208</td>\n",
       "      <td>2828</td>\n",
       "      <td>6382</td>\n",
       "      <td>4720</td>\n",
       "    </tr>\n",
       "    <tr>\n",
       "      <th>Pepsi</th>\n",
       "      <td>4180</td>\n",
       "      <td>2947</td>\n",
       "      <td>6563</td>\n",
       "      <td>16881</td>\n",
       "    </tr>\n",
       "    <tr>\n",
       "      <th>Random House</th>\n",
       "      <td>4128</td>\n",
       "      <td>2871</td>\n",
       "      <td>6401</td>\n",
       "      <td>4722</td>\n",
       "    </tr>\n",
       "    <tr>\n",
       "      <th>Samsung</th>\n",
       "      <td>4182</td>\n",
       "      <td>2821</td>\n",
       "      <td>6594</td>\n",
       "      <td>4779</td>\n",
       "    </tr>\n",
       "    <tr>\n",
       "      <th>Sony</th>\n",
       "      <td>4131</td>\n",
       "      <td>2910</td>\n",
       "      <td>6513</td>\n",
       "      <td>4765</td>\n",
       "    </tr>\n",
       "    <tr>\n",
       "      <th>Whirepool</th>\n",
       "      <td>149</td>\n",
       "      <td>1</td>\n",
       "      <td>3</td>\n",
       "      <td>7292</td>\n",
       "    </tr>\n",
       "    <tr>\n",
       "      <th>Zara</th>\n",
       "      <td>4298</td>\n",
       "      <td>2916</td>\n",
       "      <td>6380</td>\n",
       "      <td>4776</td>\n",
       "    </tr>\n",
       "  </tbody>\n",
       "</table>\n",
       "</div>"
      ],
      "text/plain": [
       "Feedback           Average   Bad  Excellent   Good\n",
       "Product_Brand                                     \n",
       "Adidas                4090  2982       6399   4765\n",
       "Apple                 4115  2889       6370   4699\n",
       "Bed Bath & Beyond     4208  2864       6446   4726\n",
       "BlueStar                 0     0       2030    226\n",
       "Coca-Cola             4203  2946       6482   4761\n",
       "HarperCollins         4208  2897       6446   4802\n",
       "Home Depot            4197  2891       6343   4714\n",
       "IKEA                  4089  2805       6235   4865\n",
       "Mitsubhisi               0     0       2553   4171\n",
       "Nestle                4207  2809       6354   4739\n",
       "Nike                  4080  2920       6444   4695\n",
       "Penguin Books         4208  2828       6382   4720\n",
       "Pepsi                 4180  2947       6563  16881\n",
       "Random House          4128  2871       6401   4722\n",
       "Samsung               4182  2821       6594   4779\n",
       "Sony                  4131  2910       6513   4765\n",
       "Whirepool              149     1          3   7292\n",
       "Zara                  4298  2916       6380   4776"
      ]
     },
     "execution_count": 51,
     "metadata": {},
     "output_type": "execute_result"
    }
   ],
   "source": [
    "C2=pd.crosstab(df['Product_Brand'],df['Feedback'])\n",
    "C2"
   ]
  },
  {
   "cell_type": "code",
   "execution_count": 52,
   "metadata": {},
   "outputs": [
    {
     "data": {
      "text/plain": [
       "<Axes: xlabel='Feedback', ylabel='Product_Brand'>"
      ]
     },
     "execution_count": 52,
     "metadata": {},
     "output_type": "execute_result"
    },
    {
     "data": {
      "image/png": "[encoded data removed]",
      "text/plain": [
       "<Figure size 640x480 with 2 Axes>"
      ]
     },
     "metadata": {},
     "output_type": "display_data"
    }
   ],
   "source": [
    "sns.heatmap(C2,annot=True)"
   ]
  },
  {
   "cell_type": "markdown",
   "metadata": {},
   "source": [
    "For BLUESTAR and MITSUBHISI there is no bad feedback,but less consumer purschase it because its products are electronics which generally as low consumption rate as others.Whirepool get only 3 excellent feedback which need to be improve.For rest of the product it is quite good feedback.For further reducing bad feedbacks we have improve the products  "
   ]
  },
  {
   "cell_type": "code",
   "execution_count": 53,
   "metadata": {},
   "outputs": [
    {
     "data": {
      "text/html": [
       "<div>\n",
       "<style scoped>\n",
       "    .dataframe tbody tr th:only-of-type {\n",
       "        vertical-align: middle;\n",
       "    }\n",
       "\n",
       "    .dataframe tbody tr th {\n",
       "        vertical-align: top;\n",
       "    }\n",
       "\n",
       "    .dataframe thead th {\n",
       "        text-align: right;\n",
       "    }\n",
       "</style>\n",
       "<table border=\"1\" class=\"dataframe\">\n",
       "  <thead>\n",
       "    <tr style=\"text-align: right;\">\n",
       "      <th>Product_Category</th>\n",
       "      <th>Books</th>\n",
       "      <th>Clothing</th>\n",
       "      <th>Electronics</th>\n",
       "      <th>Grocery</th>\n",
       "      <th>Home Decor</th>\n",
       "    </tr>\n",
       "    <tr>\n",
       "      <th>Product_Brand</th>\n",
       "      <th></th>\n",
       "      <th></th>\n",
       "      <th></th>\n",
       "      <th></th>\n",
       "      <th></th>\n",
       "    </tr>\n",
       "  </thead>\n",
       "  <tbody>\n",
       "    <tr>\n",
       "      <th>Adidas</th>\n",
       "      <td>0</td>\n",
       "      <td>18212</td>\n",
       "      <td>24</td>\n",
       "      <td>0</td>\n",
       "      <td>0</td>\n",
       "    </tr>\n",
       "    <tr>\n",
       "      <th>Apple</th>\n",
       "      <td>0</td>\n",
       "      <td>0</td>\n",
       "      <td>18073</td>\n",
       "      <td>0</td>\n",
       "      <td>0</td>\n",
       "    </tr>\n",
       "    <tr>\n",
       "      <th>Bed Bath &amp; Beyond</th>\n",
       "      <td>0</td>\n",
       "      <td>0</td>\n",
       "      <td>19</td>\n",
       "      <td>0</td>\n",
       "      <td>18225</td>\n",
       "    </tr>\n",
       "    <tr>\n",
       "      <th>BlueStar</th>\n",
       "      <td>0</td>\n",
       "      <td>0</td>\n",
       "      <td>2256</td>\n",
       "      <td>0</td>\n",
       "      <td>0</td>\n",
       "    </tr>\n",
       "    <tr>\n",
       "      <th>Coca-Cola</th>\n",
       "      <td>0</td>\n",
       "      <td>0</td>\n",
       "      <td>25</td>\n",
       "      <td>18367</td>\n",
       "      <td>0</td>\n",
       "    </tr>\n",
       "    <tr>\n",
       "      <th>HarperCollins</th>\n",
       "      <td>18338</td>\n",
       "      <td>0</td>\n",
       "      <td>15</td>\n",
       "      <td>0</td>\n",
       "      <td>0</td>\n",
       "    </tr>\n",
       "    <tr>\n",
       "      <th>Home Depot</th>\n",
       "      <td>0</td>\n",
       "      <td>0</td>\n",
       "      <td>18</td>\n",
       "      <td>0</td>\n",
       "      <td>18127</td>\n",
       "    </tr>\n",
       "    <tr>\n",
       "      <th>IKEA</th>\n",
       "      <td>0</td>\n",
       "      <td>0</td>\n",
       "      <td>16</td>\n",
       "      <td>0</td>\n",
       "      <td>17978</td>\n",
       "    </tr>\n",
       "    <tr>\n",
       "      <th>Mitsubhisi</th>\n",
       "      <td>0</td>\n",
       "      <td>0</td>\n",
       "      <td>6724</td>\n",
       "      <td>0</td>\n",
       "      <td>0</td>\n",
       "    </tr>\n",
       "    <tr>\n",
       "      <th>Nestle</th>\n",
       "      <td>0</td>\n",
       "      <td>0</td>\n",
       "      <td>27</td>\n",
       "      <td>18082</td>\n",
       "      <td>0</td>\n",
       "    </tr>\n",
       "    <tr>\n",
       "      <th>Nike</th>\n",
       "      <td>0</td>\n",
       "      <td>18124</td>\n",
       "      <td>15</td>\n",
       "      <td>0</td>\n",
       "      <td>0</td>\n",
       "    </tr>\n",
       "    <tr>\n",
       "      <th>Penguin Books</th>\n",
       "      <td>18118</td>\n",
       "      <td>0</td>\n",
       "      <td>20</td>\n",
       "      <td>0</td>\n",
       "      <td>0</td>\n",
       "    </tr>\n",
       "    <tr>\n",
       "      <th>Pepsi</th>\n",
       "      <td>64</td>\n",
       "      <td>54</td>\n",
       "      <td>66</td>\n",
       "      <td>30335</td>\n",
       "      <td>52</td>\n",
       "    </tr>\n",
       "    <tr>\n",
       "      <th>Random House</th>\n",
       "      <td>18102</td>\n",
       "      <td>0</td>\n",
       "      <td>20</td>\n",
       "      <td>0</td>\n",
       "      <td>0</td>\n",
       "    </tr>\n",
       "    <tr>\n",
       "      <th>Samsung</th>\n",
       "      <td>0</td>\n",
       "      <td>0</td>\n",
       "      <td>18376</td>\n",
       "      <td>0</td>\n",
       "      <td>0</td>\n",
       "    </tr>\n",
       "    <tr>\n",
       "      <th>Sony</th>\n",
       "      <td>0</td>\n",
       "      <td>0</td>\n",
       "      <td>18319</td>\n",
       "      <td>0</td>\n",
       "      <td>0</td>\n",
       "    </tr>\n",
       "    <tr>\n",
       "      <th>Whirepool</th>\n",
       "      <td>0</td>\n",
       "      <td>0</td>\n",
       "      <td>7445</td>\n",
       "      <td>0</td>\n",
       "      <td>0</td>\n",
       "    </tr>\n",
       "    <tr>\n",
       "      <th>Zara</th>\n",
       "      <td>0</td>\n",
       "      <td>18349</td>\n",
       "      <td>21</td>\n",
       "      <td>0</td>\n",
       "      <td>0</td>\n",
       "    </tr>\n",
       "  </tbody>\n",
       "</table>\n",
       "</div>"
      ],
      "text/plain": [
       "Product_Category   Books  Clothing  Electronics  Grocery  Home Decor\n",
       "Product_Brand                                                       \n",
       "Adidas                 0     18212           24        0           0\n",
       "Apple                  0         0        18073        0           0\n",
       "Bed Bath & Beyond      0         0           19        0       18225\n",
       "BlueStar               0         0         2256        0           0\n",
       "Coca-Cola              0         0           25    18367           0\n",
       "HarperCollins      18338         0           15        0           0\n",
       "Home Depot             0         0           18        0       18127\n",
       "IKEA                   0         0           16        0       17978\n",
       "Mitsubhisi             0         0         6724        0           0\n",
       "Nestle                 0         0           27    18082           0\n",
       "Nike                   0     18124           15        0           0\n",
       "Penguin Books      18118         0           20        0           0\n",
       "Pepsi                 64        54           66    30335          52\n",
       "Random House       18102         0           20        0           0\n",
       "Samsung                0         0        18376        0           0\n",
       "Sony                   0         0        18319        0           0\n",
       "Whirepool              0         0         7445        0           0\n",
       "Zara                   0     18349           21        0           0"
      ]
     },
     "execution_count": 53,
     "metadata": {},
     "output_type": "execute_result"
    }
   ],
   "source": [
    "pd.crosstab(df['Product_Brand'],df['Product_Category'])"
   ]
  },
  {
   "cell_type": "code",
   "execution_count": 54,
   "metadata": {},
   "outputs": [
    {
     "data": {
      "text/html": [
       "<div>\n",
       "<style scoped>\n",
       "    .dataframe tbody tr th:only-of-type {\n",
       "        vertical-align: middle;\n",
       "    }\n",
       "\n",
       "    .dataframe tbody tr th {\n",
       "        vertical-align: top;\n",
       "    }\n",
       "\n",
       "    .dataframe thead th {\n",
       "        text-align: right;\n",
       "    }\n",
       "</style>\n",
       "<table border=\"1\" class=\"dataframe\">\n",
       "  <thead>\n",
       "    <tr style=\"text-align: right;\">\n",
       "      <th>Product_Type</th>\n",
       "      <th>Bathroom</th>\n",
       "      <th>Bedding</th>\n",
       "      <th>BlueStar AC</th>\n",
       "      <th>Children's</th>\n",
       "      <th>Chocolate</th>\n",
       "      <th>Coffee</th>\n",
       "      <th>Decorations</th>\n",
       "      <th>Dress</th>\n",
       "      <th>Fiction</th>\n",
       "      <th>Fridge</th>\n",
       "      <th>...</th>\n",
       "      <th>Shorts</th>\n",
       "      <th>Smartphone</th>\n",
       "      <th>Snacks</th>\n",
       "      <th>Soft Drink</th>\n",
       "      <th>T-shirt</th>\n",
       "      <th>Tablet</th>\n",
       "      <th>Television</th>\n",
       "      <th>Thriller</th>\n",
       "      <th>Tools</th>\n",
       "      <th>Water</th>\n",
       "    </tr>\n",
       "    <tr>\n",
       "      <th>Shipping_Method</th>\n",
       "      <th></th>\n",
       "      <th></th>\n",
       "      <th></th>\n",
       "      <th></th>\n",
       "      <th></th>\n",
       "      <th></th>\n",
       "      <th></th>\n",
       "      <th></th>\n",
       "      <th></th>\n",
       "      <th></th>\n",
       "      <th></th>\n",
       "      <th></th>\n",
       "      <th></th>\n",
       "      <th></th>\n",
       "      <th></th>\n",
       "      <th></th>\n",
       "      <th></th>\n",
       "      <th></th>\n",
       "      <th></th>\n",
       "      <th></th>\n",
       "      <th></th>\n",
       "    </tr>\n",
       "  </thead>\n",
       "  <tbody>\n",
       "    <tr>\n",
       "      <th>Express</th>\n",
       "      <td>1977</td>\n",
       "      <td>1985</td>\n",
       "      <td>779</td>\n",
       "      <td>2076</td>\n",
       "      <td>2027</td>\n",
       "      <td>2074</td>\n",
       "      <td>4166</td>\n",
       "      <td>2103</td>\n",
       "      <td>6117</td>\n",
       "      <td>2435</td>\n",
       "      <td>...</td>\n",
       "      <td>2042</td>\n",
       "      <td>6268</td>\n",
       "      <td>2004</td>\n",
       "      <td>4055</td>\n",
       "      <td>4178</td>\n",
       "      <td>4043</td>\n",
       "      <td>4214</td>\n",
       "      <td>2108</td>\n",
       "      <td>1998</td>\n",
       "      <td>8180</td>\n",
       "    </tr>\n",
       "    <tr>\n",
       "      <th>Same-Day</th>\n",
       "      <td>2052</td>\n",
       "      <td>2044</td>\n",
       "      <td>1476</td>\n",
       "      <td>2078</td>\n",
       "      <td>2036</td>\n",
       "      <td>2098</td>\n",
       "      <td>4090</td>\n",
       "      <td>2037</td>\n",
       "      <td>6006</td>\n",
       "      <td>2503</td>\n",
       "      <td>...</td>\n",
       "      <td>2109</td>\n",
       "      <td>6151</td>\n",
       "      <td>1937</td>\n",
       "      <td>4098</td>\n",
       "      <td>4071</td>\n",
       "      <td>4119</td>\n",
       "      <td>4115</td>\n",
       "      <td>2104</td>\n",
       "      <td>2016</td>\n",
       "      <td>8243</td>\n",
       "    </tr>\n",
       "    <tr>\n",
       "      <th>Standard</th>\n",
       "      <td>1997</td>\n",
       "      <td>1982</td>\n",
       "      <td>1</td>\n",
       "      <td>1993</td>\n",
       "      <td>1988</td>\n",
       "      <td>2006</td>\n",
       "      <td>3922</td>\n",
       "      <td>1983</td>\n",
       "      <td>5922</td>\n",
       "      <td>2507</td>\n",
       "      <td>...</td>\n",
       "      <td>1936</td>\n",
       "      <td>6049</td>\n",
       "      <td>1960</td>\n",
       "      <td>3881</td>\n",
       "      <td>3931</td>\n",
       "      <td>3929</td>\n",
       "      <td>3868</td>\n",
       "      <td>2050</td>\n",
       "      <td>1934</td>\n",
       "      <td>8036</td>\n",
       "    </tr>\n",
       "  </tbody>\n",
       "</table>\n",
       "<p>3 rows × 33 columns</p>\n",
       "</div>"
      ],
      "text/plain": [
       "Product_Type     Bathroom  Bedding  BlueStar AC  Children's  Chocolate  \\\n",
       "Shipping_Method                                                          \n",
       "Express              1977     1985          779        2076       2027   \n",
       "Same-Day             2052     2044         1476        2078       2036   \n",
       "Standard             1997     1982            1        1993       1988   \n",
       "\n",
       "Product_Type     Coffee  Decorations  Dress  Fiction  Fridge  ...  Shorts  \\\n",
       "Shipping_Method                                               ...           \n",
       "Express            2074         4166   2103     6117    2435  ...    2042   \n",
       "Same-Day           2098         4090   2037     6006    2503  ...    2109   \n",
       "Standard           2006         3922   1983     5922    2507  ...    1936   \n",
       "\n",
       "Product_Type     Smartphone  Snacks  Soft Drink  T-shirt  Tablet  Television  \\\n",
       "Shipping_Method                                                                \n",
       "Express                6268    2004        4055     4178    4043        4214   \n",
       "Same-Day               6151    1937        4098     4071    4119        4115   \n",
       "Standard               6049    1960        3881     3931    3929        3868   \n",
       "\n",
       "Product_Type     Thriller  Tools  Water  \n",
       "Shipping_Method                          \n",
       "Express              2108   1998   8180  \n",
       "Same-Day             2104   2016   8243  \n",
       "Standard             2050   1934   8036  \n",
       "\n",
       "[3 rows x 33 columns]"
      ]
     },
     "execution_count": 54,
     "metadata": {},
     "output_type": "execute_result"
    }
   ],
   "source": [
    "pd.crosstab(df['Shipping_Method'],df['Product_Type'])"
   ]
  },
  {
   "cell_type": "markdown",
   "metadata": {},
   "source": [
    "all the products shipped by the different shipping methods in almost same proportion except BLUESTAR AC ,which is mostly shipped on the same day and only 1 time by standard "
   ]
  },
  {
   "cell_type": "code",
   "execution_count": 55,
   "metadata": {},
   "outputs": [
    {
     "data": {
      "text/html": [
       "<div>\n",
       "<style scoped>\n",
       "    .dataframe tbody tr th:only-of-type {\n",
       "        vertical-align: middle;\n",
       "    }\n",
       "\n",
       "    .dataframe tbody tr th {\n",
       "        vertical-align: top;\n",
       "    }\n",
       "\n",
       "    .dataframe thead th {\n",
       "        text-align: right;\n",
       "    }\n",
       "</style>\n",
       "<table border=\"1\" class=\"dataframe\">\n",
       "  <thead>\n",
       "    <tr style=\"text-align: right;\">\n",
       "      <th>Product_Category</th>\n",
       "      <th>Books</th>\n",
       "      <th>Clothing</th>\n",
       "      <th>Electronics</th>\n",
       "      <th>Grocery</th>\n",
       "      <th>Home Decor</th>\n",
       "    </tr>\n",
       "    <tr>\n",
       "      <th>Gender</th>\n",
       "      <th></th>\n",
       "      <th></th>\n",
       "      <th></th>\n",
       "      <th></th>\n",
       "      <th></th>\n",
       "    </tr>\n",
       "  </thead>\n",
       "  <tbody>\n",
       "    <tr>\n",
       "      <th>Female</th>\n",
       "      <td>21189</td>\n",
       "      <td>21110</td>\n",
       "      <td>24794</td>\n",
       "      <td>25893</td>\n",
       "      <td>21107</td>\n",
       "    </tr>\n",
       "    <tr>\n",
       "      <th>Male</th>\n",
       "      <td>33433</td>\n",
       "      <td>33629</td>\n",
       "      <td>46685</td>\n",
       "      <td>40891</td>\n",
       "      <td>33275</td>\n",
       "    </tr>\n",
       "  </tbody>\n",
       "</table>\n",
       "</div>"
      ],
      "text/plain": [
       "Product_Category  Books  Clothing  Electronics  Grocery  Home Decor\n",
       "Gender                                                             \n",
       "Female            21189     21110        24794    25893       21107\n",
       "Male              33433     33629        46685    40891       33275"
      ]
     },
     "execution_count": 55,
     "metadata": {},
     "output_type": "execute_result"
    }
   ],
   "source": [
    "pd.crosstab(df['Gender'],df['Product_Category'])\n"
   ]
  },
  {
   "cell_type": "markdown",
   "metadata": {},
   "source": [
    "electronics product sell is highest for both male and female "
   ]
  },
  {
   "cell_type": "code",
   "execution_count": null,
   "metadata": {},
   "outputs": [],
   "source": []
  },
  {
   "cell_type": "markdown",
   "metadata": {},
   "source": [
    "# CONCLUSION"
   ]
  },
  {
   "cell_type": "markdown",
   "metadata": {},
   "source": [
    "1.Able to findout ehich type of product get bad feedback so it need to improve and also which type of product was more selected by person on which area so we can improve our marketing stategies\n",
    "\n",
    "2.Which country wise which types of product more purchased i also find out it.\n",
    "\n",
    "3.Total amount generated per month for each product category \n",
    "\n",
    "4.Which product type sell more and which one sell less\n",
    "\n",
    "5.Which product category sell less ,which more\n",
    "\n",
    "**All these answers is mentioned below the plot of each analysis**\n"
   ]
  }
 ],
 "metadata": {
  "kernelspec": {
   "display_name": "Python 3",
   "language": "python",
   "name": "python3"
  },
  "language_info": {
   "codemirror_mode": {
    "name": "ipython",
    "version": 3
   },
   "file_extension": ".py",
   "mimetype": "text/x-python",
   "name": "python",
   "nbconvert_exporter": "python",
   "pygments_lexer": "ipython3",
   "version": "3.12.5"
  }
 },
 "nbformat": 4,
 "nbformat_minor": 2
}
